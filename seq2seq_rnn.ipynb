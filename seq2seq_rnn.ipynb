{
 "cells": [
  {
   "cell_type": "markdown",
   "metadata": {},
   "source": [
    "## RNN Model Performing Seq2Seq Labeling (POS Taging) on NLTK Corpus"
   ]
  },
  {
   "cell_type": "markdown",
   "metadata": {},
   "source": [
    "#### Run the entire notebook cell by cell to generate the results as explained in the 'Process - Dropped Seq2Seq Labeling Task' Section of the Report. \n",
    "\n",
    "#### May need to download some required package libraries for successful implementation.\n",
    "\n",
    "#### Download the Word2Vec Embeddings from this repo 'https://github.com/mmihaltz/word2vec-GoogleNews-vectors/blob/master/GoogleNews-vectors-negative300.bin.gz' and unzip bin file. Then update path in word-embedding cell."
   ]
  },
  {
   "cell_type": "markdown",
   "metadata": {},
   "source": [
    "#### Dataset and Packages"
   ]
  },
  {
   "cell_type": "code",
   "execution_count": 1,
   "metadata": {},
   "outputs": [],
   "source": [
    "# importing basic pandas and numpy libraries\n",
    "import pandas as pd\n",
    "import numpy as np"
   ]
  },
  {
   "cell_type": "code",
   "execution_count": 2,
   "metadata": {},
   "outputs": [],
   "source": [
    "# importing dataset libraries\n",
    "from nltk.corpus import brown\n",
    "from nltk.corpus import treebank\n",
    "from nltk.corpus import conll2000\n",
    "\n",
    "import nltk\n",
    "# nltk.download('treebank')\n",
    "# nltk.download('brown')\n",
    "# nltk.download('conll2000')\n",
    "# nltk.download('universal_tagset')\n",
    "\n",
    "# load POS tagged corpora from NLTK\n",
    "treebank_corpus = treebank.tagged_sents(tagset='universal')\n",
    "brown_corpus = brown.tagged_sents(tagset='universal')\n",
    "conll_corpus = conll2000.tagged_sents(tagset='universal')\n",
    "tagged_sentences = treebank_corpus + brown_corpus + conll_corpus"
   ]
  },
  {
   "cell_type": "markdown",
   "metadata": {},
   "source": [
    "#### Dataset Pre-Processing"
   ]
  },
  {
   "cell_type": "code",
   "execution_count": 3,
   "metadata": {},
   "outputs": [],
   "source": [
    "# splitting words and tags into separate sentences as lists of equal lengths\n",
    "sentence_list_words = []\n",
    "sentence_list_postags = []\n",
    "for sentence in tagged_sentences:\n",
    "    sentence_list_words.append([sentence[i][0] for i in range(len(sentence))])\n",
    "    sentence_list_postags.append([sentence[i][1] for i in range(len(sentence))])"
   ]
  },
  {
   "cell_type": "code",
   "execution_count": 4,
   "metadata": {},
   "outputs": [],
   "source": [
    "# tokenizing both words and postags\n",
    "from keras_preprocessing.text import Tokenizer\n",
    "\n",
    "word_tokenizer = Tokenizer()\n",
    "word_tokenizer.fit_on_texts(sentence_list_words)\n",
    "sentence_list_words_encoded = word_tokenizer.texts_to_sequences(sentence_list_words)  \n",
    "\n",
    "postag_tokenizer = Tokenizer()\n",
    "postag_tokenizer.fit_on_texts(sentence_list_postags)\n",
    "sentence_list_postags_encoded = postag_tokenizer.texts_to_sequences(sentence_list_postags)"
   ]
  },
  {
   "cell_type": "code",
   "execution_count": 5,
   "metadata": {},
   "outputs": [],
   "source": [
    "# padding the sentences to ensure equal length since we are working with an RNN\n",
    "from keras_preprocessing.sequence import pad_sequences\n",
    "\n",
    "MAX_SEQ_LENGTH = 100\n",
    "sentence_list_words = pad_sequences(sentence_list_words_encoded, maxlen=MAX_SEQ_LENGTH, padding=\"pre\", truncating=\"post\")\n",
    "sentence_list_postags = pad_sequences(sentence_list_postags_encoded, maxlen=MAX_SEQ_LENGTH, padding=\"pre\", truncating=\"post\")"
   ]
  },
  {
   "cell_type": "markdown",
   "metadata": {},
   "source": [
    "#### Word Embeddings"
   ]
  },
  {
   "cell_type": "code",
   "execution_count": 6,
   "metadata": {},
   "outputs": [],
   "source": [
    "# importing gensim library of Google-News-300 word embeddings\n",
    "from gensim.models import KeyedVectors\n",
    "from keras.layers import Embedding, Dense, TimeDistributed, LSTM, GRU, Bidirectional, SimpleRNN, RNN\n",
    "\n",
    "path = r'C:\\Users\\Abhinav Gupta\\OneDrive\\Desktop\\ML\\ML Project\\GoogleNews-vectors-negative300.bin'\n",
    "word2vec= KeyedVectors.load_word2vec_format(path, binary=True)"
   ]
  },
  {
   "cell_type": "code",
   "execution_count": 7,
   "metadata": {},
   "outputs": [],
   "source": [
    "# using pre-trained word emeddings of Word2Vec model to create this tasks word embeddings\n",
    "EMBEDDING_SIZE  = 300 \n",
    "VOCABULARY_SIZE = len(word_tokenizer.word_index) + 1\n",
    "embedding_weights = np.zeros((VOCABULARY_SIZE, EMBEDDING_SIZE))\n",
    "word2id = word_tokenizer.word_index\n",
    "\n",
    "for word, index in word2id.items():\n",
    "    try:\n",
    "        embedding_weights[index, :] = word2vec[word]\n",
    "    except KeyError:\n",
    "        pass"
   ]
  },
  {
   "cell_type": "code",
   "execution_count": 8,
   "metadata": {},
   "outputs": [],
   "source": [
    "# forming one-hot encoded vectors for the pos-tags (labels)\n",
    "from keras.utils import to_categorical\n",
    "sentence_list_postags = to_categorical(sentence_list_postags)"
   ]
  },
  {
   "cell_type": "code",
   "execution_count": 9,
   "metadata": {},
   "outputs": [],
   "source": [
    "# splitting data into train, test, and val dataset for performing the seq2seq task\n",
    "from sklearn.model_selection import train_test_split\n",
    "from sklearn.utils import shuffle\n",
    "\n",
    "TEST_SIZE = 0.15\n",
    "X_train, X_test, Y_train, Y_test = train_test_split(sentence_list_words, sentence_list_postags, test_size=TEST_SIZE, random_state=4)\n",
    "\n",
    "VALID_SIZE = 0.15\n",
    "X_train, X_validation, Y_train, Y_validation = train_test_split(X_train, Y_train, test_size=VALID_SIZE, random_state=4)"
   ]
  },
  {
   "cell_type": "markdown",
   "metadata": {},
   "source": [
    "#### RNN"
   ]
  },
  {
   "cell_type": "code",
   "execution_count": 10,
   "metadata": {},
   "outputs": [],
   "source": [
    "# \n",
    "from keras.models import Sequential\n",
    "from keras import layers, regularizers\n",
    "\n",
    "NUM_CLASSES = sentence_list_postags.shape[2]\n",
    "\n",
    "rnn_model = Sequential()\n",
    "\n",
    "rnn_model.add(Embedding(input_dim = VOCABULARY_SIZE, output_dim = EMBEDDING_SIZE, trainable = False))\n",
    "\n",
    "rnn_model.add(SimpleRNN(64, return_sequences=True))\n",
    "\n",
    "rnn_model.add(TimeDistributed(Dense(NUM_CLASSES, activation='softmax')))\n",
    "\n",
    "rnn_model.compile(loss='categorical_crossentropy', optimizer='adam', metrics=['acc'])"
   ]
  },
  {
   "cell_type": "code",
   "execution_count": 11,
   "metadata": {},
   "outputs": [
    {
     "name": "stdout",
     "output_type": "stream",
     "text": [
      "Epoch 1/10\n",
      "\u001b[1m408/408\u001b[0m \u001b[32m━━━━━━━━━━━━━━━━━━━━\u001b[0m\u001b[37m\u001b[0m \u001b[1m75s\u001b[0m 141ms/step - acc: 0.7822 - loss: 0.7638 - val_acc: 0.8948 - val_loss: 0.3523\n",
      "Epoch 2/10\n",
      "\u001b[1m408/408\u001b[0m \u001b[32m━━━━━━━━━━━━━━━━━━━━\u001b[0m\u001b[37m\u001b[0m \u001b[1m55s\u001b[0m 135ms/step - acc: 0.9018 - loss: 0.3246 - val_acc: 0.9236 - val_loss: 0.2491\n",
      "Epoch 3/10\n",
      "\u001b[1m408/408\u001b[0m \u001b[32m━━━━━━━━━━━━━━━━━━━━\u001b[0m\u001b[37m\u001b[0m \u001b[1m54s\u001b[0m 133ms/step - acc: 0.9265 - loss: 0.2380 - val_acc: 0.9358 - val_loss: 0.2034\n",
      "Epoch 4/10\n",
      "\u001b[1m408/408\u001b[0m \u001b[32m━━━━━━━━━━━━━━━━━━━━\u001b[0m\u001b[37m\u001b[0m \u001b[1m59s\u001b[0m 144ms/step - acc: 0.9375 - loss: 0.1981 - val_acc: 0.9433 - val_loss: 0.1766\n",
      "Epoch 5/10\n",
      "\u001b[1m408/408\u001b[0m \u001b[32m━━━━━━━━━━━━━━━━━━━━\u001b[0m\u001b[37m\u001b[0m \u001b[1m52s\u001b[0m 127ms/step - acc: 0.9446 - loss: 0.1733 - val_acc: 0.9489 - val_loss: 0.1584\n",
      "Epoch 6/10\n",
      "\u001b[1m408/408\u001b[0m \u001b[32m━━━━━━━━━━━━━━━━━━━━\u001b[0m\u001b[37m\u001b[0m \u001b[1m49s\u001b[0m 120ms/step - acc: 0.9499 - loss: 0.1558 - val_acc: 0.9526 - val_loss: 0.1465\n",
      "Epoch 7/10\n",
      "\u001b[1m408/408\u001b[0m \u001b[32m━━━━━━━━━━━━━━━━━━━━\u001b[0m\u001b[37m\u001b[0m \u001b[1m50s\u001b[0m 123ms/step - acc: 0.9528 - loss: 0.1453 - val_acc: 0.9546 - val_loss: 0.1381\n",
      "Epoch 8/10\n",
      "\u001b[1m408/408\u001b[0m \u001b[32m━━━━━━━━━━━━━━━━━━━━\u001b[0m\u001b[37m\u001b[0m \u001b[1m50s\u001b[0m 122ms/step - acc: 0.9547 - loss: 0.1384 - val_acc: 0.9560 - val_loss: 0.1325\n",
      "Epoch 9/10\n",
      "\u001b[1m408/408\u001b[0m \u001b[32m━━━━━━━━━━━━━━━━━━━━\u001b[0m\u001b[37m\u001b[0m \u001b[1m50s\u001b[0m 123ms/step - acc: 0.9561 - loss: 0.1325 - val_acc: 0.9567 - val_loss: 0.1285\n",
      "Epoch 10/10\n",
      "\u001b[1m408/408\u001b[0m \u001b[32m━━━━━━━━━━━━━━━━━━━━\u001b[0m\u001b[37m\u001b[0m \u001b[1m53s\u001b[0m 131ms/step - acc: 0.9574 - loss: 0.1278 - val_acc: 0.9579 - val_loss: 0.1250\n"
     ]
    }
   ],
   "source": [
    "rnn_training = rnn_model.fit(X_train, Y_train, batch_size=128, epochs=10, validation_data=(X_validation, Y_validation))"
   ]
  },
  {
   "cell_type": "code",
   "execution_count": 12,
   "metadata": {},
   "outputs": [
    {
     "data": {
      "image/png": "[encoded data removed]",
      "text/plain": [
       "<Figure size 640x480 with 1 Axes>"
      ]
     },
     "metadata": {},
     "output_type": "display_data"
    }
   ],
   "source": [
    "from matplotlib import pyplot as plt\n",
    "\n",
    "plt.plot(rnn_training.history['acc'])\n",
    "plt.plot(rnn_training.history['val_acc'])\n",
    "plt.title('model accuracy')\n",
    "plt.grid()\n",
    "plt.ylabel('accuracy')\n",
    "plt.xlabel('epoch')\n",
    "plt.legend(['train', 'val', 'l2_train', 'l2_val'], loc=\"lower right\")\n",
    "plt.show()"
   ]
  },
  {
   "cell_type": "code",
   "execution_count": 13,
   "metadata": {},
   "outputs": [
    {
     "name": "stdout",
     "output_type": "stream",
     "text": [
      "\u001b[1m339/339\u001b[0m \u001b[32m━━━━━━━━━━━━━━━━━━━━\u001b[0m\u001b[37m\u001b[0m \u001b[1m5s\u001b[0m 14ms/step - acc: 0.9582 - loss: 0.1244\n",
      "Loss: 0.124915212392807,\n",
      "Accuracy: 0.9580833911895752\n"
     ]
    }
   ],
   "source": [
    "loss, accuracy = rnn_model.evaluate(X_test, Y_test, verbose = 1)\n",
    "print(\"Loss: {0},\\nAccuracy: {1}\".format(loss, accuracy))"
   ]
  }
 ],
 "metadata": {
  "kernelspec": {
   "display_name": "base",
   "language": "python",
   "name": "python3"
  },
  "language_info": {
   "codemirror_mode": {
    "name": "ipython",
    "version": 3
   },
   "file_extension": ".py",
   "mimetype": "text/x-python",
   "name": "python",
   "nbconvert_exporter": "python",
   "pygments_lexer": "ipython3",
   "version": "3.11.5"
  }
 },
 "nbformat": 4,
 "nbformat_minor": 2
}
