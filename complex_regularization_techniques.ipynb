{
 "cells": [
  {
   "cell_type": "code",
   "execution_count": null,
   "metadata": {},
   "outputs": [],
   "source": [
    "# Abhinav Gupta Test"
   ]
  },
  {
   "cell_type": "code",
   "execution_count": 74,
   "metadata": {},
   "outputs": [
    {
     "name": "stdout",
     "output_type": "stream",
     "text": [
      "Requirement already satisfied: pandas in /Users/hrishikesh/miniconda3/envs/MLCS_project/lib/python3.11/site-packages (2.2.1)\n",
      "Requirement already satisfied: numpy<2,>=1.23.2 in /Users/hrishikesh/miniconda3/envs/MLCS_project/lib/python3.11/site-packages (from pandas) (1.26.4)\n",
      "Requirement already satisfied: python-dateutil>=2.8.2 in /Users/hrishikesh/miniconda3/envs/MLCS_project/lib/python3.11/site-packages (from pandas) (2.9.0)\n",
      "Requirement already satisfied: pytz>=2020.1 in /Users/hrishikesh/miniconda3/envs/MLCS_project/lib/python3.11/site-packages (from pandas) (2024.1)\n",
      "Requirement already satisfied: tzdata>=2022.7 in /Users/hrishikesh/miniconda3/envs/MLCS_project/lib/python3.11/site-packages (from pandas) (2024.1)\n",
      "Requirement already satisfied: six>=1.5 in /Users/hrishikesh/miniconda3/envs/MLCS_project/lib/python3.11/site-packages (from python-dateutil>=2.8.2->pandas) (1.16.0)\n",
      "Requirement already satisfied: nltk in /Users/hrishikesh/miniconda3/envs/MLCS_project/lib/python3.11/site-packages (3.8.1)\n",
      "Requirement already satisfied: click in /Users/hrishikesh/miniconda3/envs/MLCS_project/lib/python3.11/site-packages (from nltk) (8.1.7)\n",
      "Requirement already satisfied: joblib in /Users/hrishikesh/miniconda3/envs/MLCS_project/lib/python3.11/site-packages (from nltk) (1.3.2)\n",
      "Requirement already satisfied: regex>=2021.8.3 in /Users/hrishikesh/miniconda3/envs/MLCS_project/lib/python3.11/site-packages (from nltk) (2023.12.25)\n",
      "Requirement already satisfied: tqdm in /Users/hrishikesh/miniconda3/envs/MLCS_project/lib/python3.11/site-packages (from nltk) (4.66.2)\n",
      "Requirement already satisfied: datasets in /Users/hrishikesh/miniconda3/envs/MLCS_project/lib/python3.11/site-packages (2.18.0)\n",
      "Requirement already satisfied: filelock in /Users/hrishikesh/miniconda3/envs/MLCS_project/lib/python3.11/site-packages (from datasets) (3.13.1)\n",
      "Requirement already satisfied: numpy>=1.17 in /Users/hrishikesh/miniconda3/envs/MLCS_project/lib/python3.11/site-packages (from datasets) (1.26.4)\n",
      "Requirement already satisfied: pyarrow>=12.0.0 in /Users/hrishikesh/miniconda3/envs/MLCS_project/lib/python3.11/site-packages (from datasets) (15.0.2)\n",
      "Requirement already satisfied: pyarrow-hotfix in /Users/hrishikesh/miniconda3/envs/MLCS_project/lib/python3.11/site-packages (from datasets) (0.6)\n",
      "Requirement already satisfied: dill<0.3.9,>=0.3.0 in /Users/hrishikesh/miniconda3/envs/MLCS_project/lib/python3.11/site-packages (from datasets) (0.3.8)\n",
      "Requirement already satisfied: pandas in /Users/hrishikesh/miniconda3/envs/MLCS_project/lib/python3.11/site-packages (from datasets) (2.2.1)\n",
      "Requirement already satisfied: requests>=2.19.0 in /Users/hrishikesh/miniconda3/envs/MLCS_project/lib/python3.11/site-packages (from datasets) (2.31.0)\n",
      "Requirement already satisfied: tqdm>=4.62.1 in /Users/hrishikesh/miniconda3/envs/MLCS_project/lib/python3.11/site-packages (from datasets) (4.66.2)\n",
      "Requirement already satisfied: xxhash in /Users/hrishikesh/miniconda3/envs/MLCS_project/lib/python3.11/site-packages (from datasets) (3.4.1)\n",
      "Requirement already satisfied: multiprocess in /Users/hrishikesh/miniconda3/envs/MLCS_project/lib/python3.11/site-packages (from datasets) (0.70.16)\n",
      "Requirement already satisfied: fsspec<=2024.2.0,>=2023.1.0 in /Users/hrishikesh/miniconda3/envs/MLCS_project/lib/python3.11/site-packages (from fsspec[http]<=2024.2.0,>=2023.1.0->datasets) (2024.2.0)\n",
      "Requirement already satisfied: aiohttp in /Users/hrishikesh/miniconda3/envs/MLCS_project/lib/python3.11/site-packages (from datasets) (3.9.3)\n",
      "Requirement already satisfied: huggingface-hub>=0.19.4 in /Users/hrishikesh/miniconda3/envs/MLCS_project/lib/python3.11/site-packages (from datasets) (0.21.4)\n",
      "Requirement already satisfied: packaging in /Users/hrishikesh/miniconda3/envs/MLCS_project/lib/python3.11/site-packages (from datasets) (24.0)\n",
      "Requirement already satisfied: pyyaml>=5.1 in /Users/hrishikesh/miniconda3/envs/MLCS_project/lib/python3.11/site-packages (from datasets) (6.0.1)\n",
      "Requirement already satisfied: aiosignal>=1.1.2 in /Users/hrishikesh/miniconda3/envs/MLCS_project/lib/python3.11/site-packages (from aiohttp->datasets) (1.3.1)\n",
      "Requirement already satisfied: attrs>=17.3.0 in /Users/hrishikesh/miniconda3/envs/MLCS_project/lib/python3.11/site-packages (from aiohttp->datasets) (23.2.0)\n",
      "Requirement already satisfied: frozenlist>=1.1.1 in /Users/hrishikesh/miniconda3/envs/MLCS_project/lib/python3.11/site-packages (from aiohttp->datasets) (1.4.1)\n",
      "Requirement already satisfied: multidict<7.0,>=4.5 in /Users/hrishikesh/miniconda3/envs/MLCS_project/lib/python3.11/site-packages (from aiohttp->datasets) (6.0.5)\n",
      "Requirement already satisfied: yarl<2.0,>=1.0 in /Users/hrishikesh/miniconda3/envs/MLCS_project/lib/python3.11/site-packages (from aiohttp->datasets) (1.9.4)\n",
      "Requirement already satisfied: typing-extensions>=3.7.4.3 in /Users/hrishikesh/miniconda3/envs/MLCS_project/lib/python3.11/site-packages (from huggingface-hub>=0.19.4->datasets) (4.10.0)\n",
      "Requirement already satisfied: charset-normalizer<4,>=2 in /Users/hrishikesh/miniconda3/envs/MLCS_project/lib/python3.11/site-packages (from requests>=2.19.0->datasets) (3.3.2)\n",
      "Requirement already satisfied: idna<4,>=2.5 in /Users/hrishikesh/miniconda3/envs/MLCS_project/lib/python3.11/site-packages (from requests>=2.19.0->datasets) (3.6)\n",
      "Requirement already satisfied: urllib3<3,>=1.21.1 in /Users/hrishikesh/miniconda3/envs/MLCS_project/lib/python3.11/site-packages (from requests>=2.19.0->datasets) (2.2.1)\n",
      "Requirement already satisfied: certifi>=2017.4.17 in /Users/hrishikesh/miniconda3/envs/MLCS_project/lib/python3.11/site-packages (from requests>=2.19.0->datasets) (2024.2.2)\n",
      "Requirement already satisfied: python-dateutil>=2.8.2 in /Users/hrishikesh/miniconda3/envs/MLCS_project/lib/python3.11/site-packages (from pandas->datasets) (2.9.0)\n",
      "Requirement already satisfied: pytz>=2020.1 in /Users/hrishikesh/miniconda3/envs/MLCS_project/lib/python3.11/site-packages (from pandas->datasets) (2024.1)\n",
      "Requirement already satisfied: tzdata>=2022.7 in /Users/hrishikesh/miniconda3/envs/MLCS_project/lib/python3.11/site-packages (from pandas->datasets) (2024.1)\n",
      "Requirement already satisfied: six>=1.5 in /Users/hrishikesh/miniconda3/envs/MLCS_project/lib/python3.11/site-packages (from python-dateutil>=2.8.2->pandas->datasets) (1.16.0)\n",
      "Requirement already satisfied: tqdm in /Users/hrishikesh/miniconda3/envs/MLCS_project/lib/python3.11/site-packages (4.66.2)\n",
      "Requirement already satisfied: ipywidgets in /Users/hrishikesh/miniconda3/envs/MLCS_project/lib/python3.11/site-packages (8.1.2)\n",
      "Requirement already satisfied: comm>=0.1.3 in /Users/hrishikesh/miniconda3/envs/MLCS_project/lib/python3.11/site-packages (from ipywidgets) (0.2.2)\n",
      "Requirement already satisfied: ipython>=6.1.0 in /Users/hrishikesh/miniconda3/envs/MLCS_project/lib/python3.11/site-packages (from ipywidgets) (8.22.2)\n",
      "Requirement already satisfied: traitlets>=4.3.1 in /Users/hrishikesh/miniconda3/envs/MLCS_project/lib/python3.11/site-packages (from ipywidgets) (5.14.2)\n",
      "Requirement already satisfied: widgetsnbextension~=4.0.10 in /Users/hrishikesh/miniconda3/envs/MLCS_project/lib/python3.11/site-packages (from ipywidgets) (4.0.10)\n",
      "Requirement already satisfied: jupyterlab-widgets~=3.0.10 in /Users/hrishikesh/miniconda3/envs/MLCS_project/lib/python3.11/site-packages (from ipywidgets) (3.0.10)\n",
      "Requirement already satisfied: decorator in /Users/hrishikesh/miniconda3/envs/MLCS_project/lib/python3.11/site-packages (from ipython>=6.1.0->ipywidgets) (5.1.1)\n",
      "Requirement already satisfied: jedi>=0.16 in /Users/hrishikesh/miniconda3/envs/MLCS_project/lib/python3.11/site-packages (from ipython>=6.1.0->ipywidgets) (0.19.1)\n",
      "Requirement already satisfied: matplotlib-inline in /Users/hrishikesh/miniconda3/envs/MLCS_project/lib/python3.11/site-packages (from ipython>=6.1.0->ipywidgets) (0.1.6)\n",
      "Requirement already satisfied: prompt-toolkit<3.1.0,>=3.0.41 in /Users/hrishikesh/miniconda3/envs/MLCS_project/lib/python3.11/site-packages (from ipython>=6.1.0->ipywidgets) (3.0.42)\n",
      "Requirement already satisfied: pygments>=2.4.0 in /Users/hrishikesh/miniconda3/envs/MLCS_project/lib/python3.11/site-packages (from ipython>=6.1.0->ipywidgets) (2.17.2)\n",
      "Requirement already satisfied: stack-data in /Users/hrishikesh/miniconda3/envs/MLCS_project/lib/python3.11/site-packages (from ipython>=6.1.0->ipywidgets) (0.6.2)\n",
      "Requirement already satisfied: pexpect>4.3 in /Users/hrishikesh/miniconda3/envs/MLCS_project/lib/python3.11/site-packages (from ipython>=6.1.0->ipywidgets) (4.9.0)\n",
      "Requirement already satisfied: parso<0.9.0,>=0.8.3 in /Users/hrishikesh/miniconda3/envs/MLCS_project/lib/python3.11/site-packages (from jedi>=0.16->ipython>=6.1.0->ipywidgets) (0.8.3)\n",
      "Requirement already satisfied: ptyprocess>=0.5 in /Users/hrishikesh/miniconda3/envs/MLCS_project/lib/python3.11/site-packages (from pexpect>4.3->ipython>=6.1.0->ipywidgets) (0.7.0)\n",
      "Requirement already satisfied: wcwidth in /Users/hrishikesh/miniconda3/envs/MLCS_project/lib/python3.11/site-packages (from prompt-toolkit<3.1.0,>=3.0.41->ipython>=6.1.0->ipywidgets) (0.2.13)\n",
      "Requirement already satisfied: executing>=1.2.0 in /Users/hrishikesh/miniconda3/envs/MLCS_project/lib/python3.11/site-packages (from stack-data->ipython>=6.1.0->ipywidgets) (2.0.1)\n",
      "Requirement already satisfied: asttokens>=2.1.0 in /Users/hrishikesh/miniconda3/envs/MLCS_project/lib/python3.11/site-packages (from stack-data->ipython>=6.1.0->ipywidgets) (2.4.1)\n",
      "Requirement already satisfied: pure-eval in /Users/hrishikesh/miniconda3/envs/MLCS_project/lib/python3.11/site-packages (from stack-data->ipython>=6.1.0->ipywidgets) (0.2.2)\n",
      "Requirement already satisfied: six>=1.12.0 in /Users/hrishikesh/miniconda3/envs/MLCS_project/lib/python3.11/site-packages (from asttokens>=2.1.0->stack-data->ipython>=6.1.0->ipywidgets) (1.16.0)\n",
      "Requirement already satisfied: Pillow in /Users/hrishikesh/miniconda3/envs/MLCS_project/lib/python3.11/site-packages (10.2.0)\n"
     ]
    }
   ],
   "source": [
    "# packages required for new environment\n",
    "! pip install pandas\n",
    "! pip install nltk\n",
    "! pip install datasets\n",
    "! pip install tqdm\n",
    "! pip install ipywidgets\n",
    "! pip install Pillow"
   ]
  },
  {
   "cell_type": "code",
   "execution_count": 75,
   "metadata": {},
   "outputs": [],
   "source": [
    "#Libraries\n",
    "import pandas as pd\n",
    "import datasets\n",
    "import nltk"
   ]
  },
  {
   "cell_type": "markdown",
   "metadata": {},
   "source": [
    "# Dataset 1"
   ]
  },
  {
   "cell_type": "code",
   "execution_count": 80,
   "metadata": {},
   "outputs": [],
   "source": [
    "# 1. tiny-imagenet\n",
    "#   (a) Dataset Summary - Tiny ImageNet contains 100,000+ images of 200 classes (500 for each class) downsized to 64×64 colored images. Each class has 500 training images, 50 validation images, and 50 test images.\n",
    "#   (b) Data Feature Dimensions -\n",
    "#       i. Image: A PIL.Image.Image object containing the image.\n",
    "#       ii. Label: an int classification label. -1 for the test set as the labels are missing. Check classes.py for the map of numbers and labels."
   ]
  },
  {
   "cell_type": "code",
   "execution_count": 77,
   "metadata": {},
   "outputs": [
    {
     "name": "stdout",
     "output_type": "stream",
     "text": [
      "label\n",
      "0      500\n",
      "137    500\n",
      "127    500\n",
      "128    500\n",
      "129    500\n",
      "      ... \n",
      "69     500\n",
      "70     500\n",
      "71     500\n",
      "72     500\n",
      "199    500\n",
      "Name: count, Length: 200, dtype: int64\n",
      "label\n",
      "0      50\n",
      "137    50\n",
      "127    50\n",
      "128    50\n",
      "129    50\n",
      "       ..\n",
      "69     50\n",
      "70     50\n",
      "71     50\n",
      "72     50\n",
      "199    50\n",
      "Name: count, Length: 200, dtype: int64\n"
     ]
    }
   ],
   "source": [
    "from datasets import load_dataset\n",
    "\n",
    "tiny_imagenet_train = pd.DataFrame(load_dataset(\"zh-plus/tiny-imagenet\", split=\"train\"))\n",
    "tiny_imagenet_valid = pd.DataFrame(load_dataset(\"zh-plus/tiny-imagenet\", split=\"valid\"))\n",
    "print(tiny_imagenet_train.label.value_counts())\n",
    "print(tiny_imagenet_valid.label.value_counts())\n",
    "# Note - need to figure out test set because test split for tiny imagenet is not provided"
   ]
  },
  {
   "cell_type": "markdown",
   "metadata": {},
   "source": [
    "# Regularization Techniques for Dataset 1"
   ]
  },
  {
   "cell_type": "code",
   "execution_count": 78,
   "metadata": {},
   "outputs": [],
   "source": [
    "# 1. L2 Regularization - modifies the loss function. Applied to both datasets.\n",
    "# 2. Data Augmentation - modifies the data. For Dataset1 we plan to use RandomErasing\n",
    "#              - RandomErasing is concerned about removing and randomly adding information on the\n",
    "#               blank space, such as noise. For Dataset2 we plan to use Random Synonym Replacement -\n",
    "#               Random Synonym Replacement is concerned about removing and replacing with a synonym.\n",
    "# 3. MaxDropout - modifies training approach. Applied to both datasets.\n",
    "# 4. Ensemble Regularization 1 - applying RandomErasing and MaxDropout together. Applied to Dataset1."
   ]
  },
  {
   "cell_type": "markdown",
   "metadata": {},
   "source": [
    "# Dataset 2"
   ]
  },
  {
   "cell_type": "code",
   "execution_count": 79,
   "metadata": {},
   "outputs": [],
   "source": [
    "# 2. nltk-brown + nltk-treebank + nltk-conll2000\n",
    "#   (a) Dataset Summary - The combination of these 3 datasets gives us a large corpus of\n",
    "#                       textual data that can be used for training a model that performs sequence labeling with\n",
    "#                       a total size of 72,000+ tagged sentences. The nltk library takes the base dataset and\n",
    "#                       performs tokenization to prepare it for the task of sequence labeling.\n",
    "#   (b) Data Feature Dimensions -\n",
    "#         i. Input Sequence - A sentence in english.\n",
    "#        ii. Output Sequence - POS tags of each word of the sentence."
   ]
  },
  {
   "cell_type": "code",
   "execution_count": 80,
   "metadata": {},
   "outputs": [
    {
     "name": "stderr",
     "output_type": "stream",
     "text": [
      "[nltk_data] Downloading package brown to\n",
      "[nltk_data]     /Users/hrishikesh/nltk_data...\n",
      "[nltk_data]   Package brown is already up-to-date!\n",
      "[nltk_data] Downloading package treebank to\n",
      "[nltk_data]     /Users/hrishikesh/nltk_data...\n",
      "[nltk_data]   Package treebank is already up-to-date!\n",
      "[nltk_data] Downloading package conll2000 to\n",
      "[nltk_data]     /Users/hrishikesh/nltk_data...\n",
      "[nltk_data]   Package conll2000 is already up-to-date!\n",
      "[nltk_data] Downloading package universal_tagset to\n",
      "[nltk_data]     /Users/hrishikesh/nltk_data...\n",
      "[nltk_data]   Package universal_tagset is already up-to-date!\n"
     ]
    },
    {
     "data": {
      "text/plain": [
       "True"
      ]
     },
     "execution_count": 80,
     "metadata": {},
     "output_type": "execute_result"
    }
   ],
   "source": [
    "from nltk.corpus import brown\n",
    "from nltk.corpus import treebank\n",
    "from nltk.corpus import conll2000\n",
    "nltk.download('brown')\n",
    "nltk.download('treebank')\n",
    "nltk.download('conll2000')\n",
    "nltk.download('universal_tagset')\n"
   ]
  },
  {
   "cell_type": "code",
   "execution_count": 81,
   "metadata": {},
   "outputs": [
    {
     "name": "stdout",
     "output_type": "stream",
     "text": [
      "[('Pierre', 'NOUN'), ('Vinken', 'NOUN'), (',', '.'), ('61', 'NUM'), ('years', 'NOUN'), ('old', 'ADJ'), (',', '.'), ('will', 'VERB'), ('join', 'VERB'), ('the', 'DET'), ('board', 'NOUN'), ('as', 'ADP'), ('a', 'DET'), ('nonexecutive', 'ADJ'), ('director', 'NOUN'), ('Nov.', 'NOUN'), ('29', 'NUM'), ('.', '.')]\n",
      "[('The', 'DET'), ('Fulton', 'NOUN'), ('County', 'NOUN'), ('Grand', 'ADJ'), ('Jury', 'NOUN'), ('said', 'VERB'), ('Friday', 'NOUN'), ('an', 'DET'), ('investigation', 'NOUN'), ('of', 'ADP'), (\"Atlanta's\", 'NOUN'), ('recent', 'ADJ'), ('primary', 'NOUN'), ('election', 'NOUN'), ('produced', 'VERB'), ('``', '.'), ('no', 'DET'), ('evidence', 'NOUN'), (\"''\", '.'), ('that', 'ADP'), ('any', 'DET'), ('irregularities', 'NOUN'), ('took', 'VERB'), ('place', 'NOUN'), ('.', '.')]\n",
      "[('Confidence', 'NOUN'), ('in', 'ADP'), ('the', 'DET'), ('pound', 'NOUN'), ('is', 'VERB'), ('widely', 'ADV'), ('expected', 'VERB'), ('to', 'PRT'), ('take', 'VERB'), ('another', 'DET'), ('sharp', 'ADJ'), ('dive', 'NOUN'), ('if', 'ADP'), ('trade', 'NOUN'), ('figures', 'NOUN'), ('for', 'ADP'), ('September', 'NOUN'), (',', '.'), ('due', 'ADJ'), ('for', 'ADP'), ('release', 'NOUN'), ('tomorrow', 'NOUN'), (',', '.'), ('fail', 'VERB'), ('to', 'PRT'), ('show', 'VERB'), ('a', 'DET'), ('substantial', 'ADJ'), ('improvement', 'NOUN'), ('from', 'ADP'), ('July', 'NOUN'), ('and', 'CONJ'), ('August', 'NOUN'), (\"'s\", 'PRT'), ('near-record', 'ADJ'), ('deficits', 'NOUN'), ('.', '.')]\n"
     ]
    }
   ],
   "source": [
    "treebank = treebank.tagged_sents(tagset='universal')\n",
    "brown = brown.tagged_sents(tagset='universal')\n",
    "conll2000 = conll2000.tagged_sents(tagset='universal')\n",
    "print(treebank[0])\n",
    "print(brown[0])\n",
    "print(conll2000[0])"
   ]
  },
  {
   "cell_type": "code",
   "execution_count": 82,
   "metadata": {},
   "outputs": [],
   "source": [
    "def create_dataset(data):\n",
    "    sentences = []\n",
    "    pos_tags = []\n",
    "\n",
    "    for sequence in data:\n",
    "        sentence = []\n",
    "        tags = []\n",
    "        for seq in sequence:         \n",
    "            sentence.append(seq[0])\n",
    "            tags.append(seq[1])\n",
    "            \n",
    "        sentences.append(sentence)\n",
    "        pos_tags.append(tags)\n",
    "    return pd.DataFrame(zip(sentences, pos_tags), columns=[\"sentences\", \"pos_tags\"])"
   ]
  },
  {
   "cell_type": "code",
   "execution_count": 83,
   "metadata": {},
   "outputs": [
    {
     "data": {
      "text/html": [
       "<div>\n",
       "<style scoped>\n",
       "    .dataframe tbody tr th:only-of-type {\n",
       "        vertical-align: middle;\n",
       "    }\n",
       "\n",
       "    .dataframe tbody tr th {\n",
       "        vertical-align: top;\n",
       "    }\n",
       "\n",
       "    .dataframe thead th {\n",
       "        text-align: right;\n",
       "    }\n",
       "</style>\n",
       "<table border=\"1\" class=\"dataframe\">\n",
       "  <thead>\n",
       "    <tr style=\"text-align: right;\">\n",
       "      <th></th>\n",
       "      <th>sentences</th>\n",
       "      <th>pos_tags</th>\n",
       "    </tr>\n",
       "  </thead>\n",
       "  <tbody>\n",
       "    <tr>\n",
       "      <th>0</th>\n",
       "      <td>[Pierre, Vinken, ,, 61, years, old, ,, will, j...</td>\n",
       "      <td>[NOUN, NOUN, ., NUM, NOUN, ADJ, ., VERB, VERB,...</td>\n",
       "    </tr>\n",
       "    <tr>\n",
       "      <th>1</th>\n",
       "      <td>[Mr., Vinken, is, chairman, of, Elsevier, N.V....</td>\n",
       "      <td>[NOUN, NOUN, VERB, NOUN, ADP, NOUN, NOUN, ., D...</td>\n",
       "    </tr>\n",
       "    <tr>\n",
       "      <th>2</th>\n",
       "      <td>[Rudolph, Agnew, ,, 55, years, old, and, forme...</td>\n",
       "      <td>[NOUN, NOUN, ., NUM, NOUN, ADJ, CONJ, ADJ, NOU...</td>\n",
       "    </tr>\n",
       "    <tr>\n",
       "      <th>3</th>\n",
       "      <td>[A, form, of, asbestos, once, used, *, *, to, ...</td>\n",
       "      <td>[DET, NOUN, ADP, NOUN, ADV, VERB, X, X, PRT, V...</td>\n",
       "    </tr>\n",
       "    <tr>\n",
       "      <th>4</th>\n",
       "      <td>[The, asbestos, fiber, ,, crocidolite, ,, is, ...</td>\n",
       "      <td>[DET, NOUN, NOUN, ., NOUN, ., VERB, ADV, ADJ, ...</td>\n",
       "    </tr>\n",
       "  </tbody>\n",
       "</table>\n",
       "</div>"
      ],
      "text/plain": [
       "                                           sentences  \\\n",
       "0  [Pierre, Vinken, ,, 61, years, old, ,, will, j...   \n",
       "1  [Mr., Vinken, is, chairman, of, Elsevier, N.V....   \n",
       "2  [Rudolph, Agnew, ,, 55, years, old, and, forme...   \n",
       "3  [A, form, of, asbestos, once, used, *, *, to, ...   \n",
       "4  [The, asbestos, fiber, ,, crocidolite, ,, is, ...   \n",
       "\n",
       "                                            pos_tags  \n",
       "0  [NOUN, NOUN, ., NUM, NOUN, ADJ, ., VERB, VERB,...  \n",
       "1  [NOUN, NOUN, VERB, NOUN, ADP, NOUN, NOUN, ., D...  \n",
       "2  [NOUN, NOUN, ., NUM, NOUN, ADJ, CONJ, ADJ, NOU...  \n",
       "3  [DET, NOUN, ADP, NOUN, ADV, VERB, X, X, PRT, V...  \n",
       "4  [DET, NOUN, NOUN, ., NOUN, ., VERB, ADV, ADJ, ...  "
      ]
     },
     "execution_count": 83,
     "metadata": {},
     "output_type": "execute_result"
    }
   ],
   "source": [
    "corpus_dataset = create_dataset(treebank + brown + conll2000)\n",
    "corpus_dataset.head(5)"
   ]
  },
  {
   "cell_type": "markdown",
   "metadata": {},
   "source": [
    "# Regularization Techniques for Dataset 2"
   ]
  },
  {
   "cell_type": "code",
   "execution_count": 84,
   "metadata": {},
   "outputs": [],
   "source": [
    "# 1. L2 Regularization - modifies the loss function. Applied to both datasets.\n",
    "# 2. Data Augmentation - modifies the data. For Dataset1 we plan to use RandomErasing\n",
    "#       - RandomErasing is concerned about removing and randomly adding information on the\n",
    "#         blank space, such as noise. For Dataset2 we plan to use Random Synonym Replacement -\n",
    "#         Random Synonym Replacement is concerned about removing and replacing with a synonym.\n",
    "# 3. MaxDropout - modifies training approach. Applied to both datasets.\n",
    "# 4. Ensemble Regularization 2 - applying RandomSynonymReplacement and MaxDropout together. Applied to Dataset2."
   ]
  }
 ],
 "metadata": {
  "kernelspec": {
   "display_name": "MLCS_project",
   "language": "python",
   "name": "python3"
  },
  "language_info": {
   "codemirror_mode": {
    "name": "ipython",
    "version": 3
   },
   "file_extension": ".py",
   "mimetype": "text/x-python",
   "name": "python",
   "nbconvert_exporter": "python",
   "pygments_lexer": "ipython3",
   "version": "3.11.8"
  }
 },
 "nbformat": 4,
 "nbformat_minor": 2
}
